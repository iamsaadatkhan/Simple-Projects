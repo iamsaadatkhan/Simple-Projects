{
 "cells": [
  {
   "cell_type": "code",
   "execution_count": null,
   "metadata": {},
   "outputs": [],
   "source": []
  },
  {
   "cell_type": "code",
   "execution_count": null,
   "metadata": {},
   "outputs": [],
   "source": []
  },
  {
   "cell_type": "code",
   "execution_count": null,
   "metadata": {
    "scrolled": false
   },
   "outputs": [],
   "source": [
    "tasks = [\"Your list\"]\n",
    "for x in tasks:\n",
    "    AddTask = input(\"Add your Task \")\n",
    "    tasks.append(AddTask)\n",
    "    print(tasks)\n",
    "    #for y in tasks:\n",
    "    RemoveTask = input(\"Have you done the first task in the list or you want to finish?\").lower()\n",
    "    if RemoveTask==\"yes\":\n",
    "        tasks.pop(1) \n",
    "        print(tasks)\n",
    "        AddTask = input(\"Add your Task \")\n",
    "        tasks.append(AddTask)\n",
    "    else if RemoveTask == \"finish\":\n",
    "        break\n",
    "    \n",
    "print(tasks)   \n",
    "  \n",
    "    "
   ]
  },
  {
   "cell_type": "code",
   "execution_count": null,
   "metadata": {},
   "outputs": [],
   "source": []
  },
  {
   "cell_type": "markdown",
   "metadata": {},
   "source": []
  },
  {
   "cell_type": "markdown",
   "metadata": {},
   "source": []
  },
  {
   "cell_type": "code",
   "execution_count": null,
   "metadata": {},
   "outputs": [],
   "source": []
  }
 ],
 "metadata": {
  "kernelspec": {
   "display_name": "Python 3",
   "language": "python",
   "name": "python3"
  }
 },
 "nbformat": 4,
 "nbformat_minor": 2
}
